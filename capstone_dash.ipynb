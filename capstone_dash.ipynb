{
 "cells": [
  {
   "cell_type": "code",
   "execution_count": 492,
   "id": "6b33dbaa",
   "metadata": {},
   "outputs": [],
   "source": [
    "# Import required libraries\n",
    "import pandas as pd\n",
    "import dash\n",
    "import dash_html_components as html\n",
    "import dash_core_components as dcc\n",
    "from dash.dependencies import Input, Output, State\n",
    "from jupyter_dash import JupyterDash\n",
    "import plotly.graph_objects as go\n",
    "import plotly.express as px\n",
    "from dash import no_update\n",
    "import matplotlib.pyplot as plt"
   ]
  },
  {
   "cell_type": "code",
   "execution_count": 494,
   "id": "24e738f1",
   "metadata": {},
   "outputs": [],
   "source": [
    "app = JupyterDash(__name__)\n",
    "JupyterDash.infer_jupyter_proxy_config()\n",
    "\n",
    "# REVIEW1: Clear the layout and do not display exception till callback gets executed\n",
    "app.config.suppress_callback_exceptions = True\n"
   ]
  },
  {
   "cell_type": "code",
   "execution_count": 495,
   "id": "97654776",
   "metadata": {},
   "outputs": [],
   "source": [
    "# Read the airline data into pandas dataframe\n",
    "spacex_df = pd.read_csv(\"spacex_launch_dash.csv\")\n",
    "max_payload = spacex_df['Payload Mass (kg)'].max()\n",
    "min_payload = spacex_df['Payload Mass (kg)'].min()\n",
    "site_name = spacex_df[\"Launch Site\"].value_counts().index.tolist()\n"
   ]
  },
  {
   "cell_type": "code",
   "execution_count": 496,
   "id": "52d9360c",
   "metadata": {},
   "outputs": [
    {
     "name": "stdout",
     "output_type": "stream",
     "text": [
      "    Launch Site  class  Payload Mass (kg)\n",
      "2   CCAFS LC-40      0              525.0\n",
      "3   CCAFS LC-40      0              500.0\n",
      "13  CCAFS LC-40      0              570.0\n",
      "26  VAFB SLC-4E      0              500.0\n",
      "27  VAFB SLC-4E      0              553.0\n"
     ]
    },
    {
     "data": {
      "text/html": [
       "<div>\n",
       "<style scoped>\n",
       "    .dataframe tbody tr th:only-of-type {\n",
       "        vertical-align: middle;\n",
       "    }\n",
       "\n",
       "    .dataframe tbody tr th {\n",
       "        vertical-align: top;\n",
       "    }\n",
       "\n",
       "    .dataframe thead th {\n",
       "        text-align: right;\n",
       "    }\n",
       "</style>\n",
       "<table border=\"1\" class=\"dataframe\">\n",
       "  <thead>\n",
       "    <tr style=\"text-align: right;\">\n",
       "      <th></th>\n",
       "      <th>Launch Site</th>\n",
       "      <th>class</th>\n",
       "      <th>Payload Mass (kg)</th>\n",
       "    </tr>\n",
       "  </thead>\n",
       "  <tbody>\n",
       "    <tr>\n",
       "      <th>2</th>\n",
       "      <td>CCAFS LC-40</td>\n",
       "      <td>0</td>\n",
       "      <td>525.0</td>\n",
       "    </tr>\n",
       "    <tr>\n",
       "      <th>3</th>\n",
       "      <td>CCAFS LC-40</td>\n",
       "      <td>0</td>\n",
       "      <td>500.0</td>\n",
       "    </tr>\n",
       "    <tr>\n",
       "      <th>13</th>\n",
       "      <td>CCAFS LC-40</td>\n",
       "      <td>0</td>\n",
       "      <td>570.0</td>\n",
       "    </tr>\n",
       "  </tbody>\n",
       "</table>\n",
       "</div>"
      ],
      "text/plain": [
       "    Launch Site  class  Payload Mass (kg)\n",
       "2   CCAFS LC-40      0              525.0\n",
       "3   CCAFS LC-40      0              500.0\n",
       "13  CCAFS LC-40      0              570.0"
      ]
     },
     "execution_count": 496,
     "metadata": {},
     "output_type": "execute_result"
    }
   ],
   "source": [
    "payload_df = spacex_df[ [ \"Launch Site\", \"class\", \"Payload Mass (kg)\" ] ].loc[ ( spacex_df [ \"Payload Mass (kg)\" ] >= float(500) ) & \n",
    "                  ( spacex_df [ \"Payload Mass (kg)\" ] < float(600) ) ]\n",
    "print(payload_df)\n",
    "payload_df.loc[ payload_df[\"Launch Site\"] == \"CCAFS LC-40\"]\n"
   ]
  },
  {
   "cell_type": "code",
   "execution_count": 497,
   "id": "798e0399",
   "metadata": {},
   "outputs": [],
   "source": [
    "def get_graph(name, payload1, payload2):\n",
    "    payload_df = spacex_df[ [ \"Launch Site\", \"class\", \"Payload Mass (kg)\" ] ].loc[ ( spacex_df [ \"Payload Mass (kg)\" ] >= float(payload1) ) & \n",
    "                  ( spacex_df [ \"Payload Mass (kg)\" ] < float(payload2) ) ]\n",
    "\n",
    "    newpdf = payload_df.loc[ payload_df[\"Launch Site\"] == name ]\n",
    "    figr = px.scatter(newpdf, x = \"Payload Mass (kg)\", y=\"class\", color = \"class\",\n",
    "                     title=\"Scatter plot for apyload  mass vs class\" )\n",
    "    figr.update_traces(marker_coloraxis=None)                         \n",
    "    return figr"
   ]
  },
  {
   "cell_type": "code",
   "execution_count": 498,
   "id": "d5b16726",
   "metadata": {},
   "outputs": [
    {
     "name": "stdout",
     "output_type": "stream",
     "text": [
      "Launch Site   class\n",
      "CCAFS LC-40   0        19\n",
      "              1         7\n",
      "CCAFS SLC-40  0         4\n",
      "              1         3\n",
      "KSC LC-39A    1        10\n",
      "              0         3\n",
      "VAFB SLC-4E   0         6\n",
      "              1         4\n",
      "Name: class, dtype: int64\n",
      "[('CCAFS LC-40', 0), ('CCAFS LC-40', 1), ('CCAFS SLC-40', 0), ('CCAFS SLC-40', 1), ('KSC LC-39A', 1), ('KSC LC-39A', 0), ('VAFB SLC-4E', 0), ('VAFB SLC-4E', 1)]\n",
      "[19, 7, 4, 3, 10, 3, 6, 4]\n"
     ]
    },
    {
     "data": {
      "text/html": [
       "<div>\n",
       "<style scoped>\n",
       "    .dataframe tbody tr th:only-of-type {\n",
       "        vertical-align: middle;\n",
       "    }\n",
       "\n",
       "    .dataframe tbody tr th {\n",
       "        vertical-align: top;\n",
       "    }\n",
       "\n",
       "    .dataframe thead th {\n",
       "        text-align: right;\n",
       "    }\n",
       "</style>\n",
       "<table border=\"1\" class=\"dataframe\">\n",
       "  <thead>\n",
       "    <tr style=\"text-align: right;\">\n",
       "      <th></th>\n",
       "      <th>name</th>\n",
       "      <th>val</th>\n",
       "    </tr>\n",
       "  </thead>\n",
       "  <tbody>\n",
       "    <tr>\n",
       "      <th>0</th>\n",
       "      <td>(CCAFS LC-40, 0)</td>\n",
       "      <td>19</td>\n",
       "    </tr>\n",
       "    <tr>\n",
       "      <th>1</th>\n",
       "      <td>(CCAFS LC-40, 1)</td>\n",
       "      <td>7</td>\n",
       "    </tr>\n",
       "    <tr>\n",
       "      <th>2</th>\n",
       "      <td>(CCAFS SLC-40, 0)</td>\n",
       "      <td>4</td>\n",
       "    </tr>\n",
       "    <tr>\n",
       "      <th>3</th>\n",
       "      <td>(CCAFS SLC-40, 1)</td>\n",
       "      <td>3</td>\n",
       "    </tr>\n",
       "    <tr>\n",
       "      <th>4</th>\n",
       "      <td>(KSC LC-39A, 1)</td>\n",
       "      <td>10</td>\n",
       "    </tr>\n",
       "  </tbody>\n",
       "</table>\n",
       "</div>"
      ],
      "text/plain": [
       "                name  val\n",
       "0   (CCAFS LC-40, 0)   19\n",
       "1   (CCAFS LC-40, 1)    7\n",
       "2  (CCAFS SLC-40, 0)    4\n",
       "3  (CCAFS SLC-40, 1)    3\n",
       "4    (KSC LC-39A, 1)   10"
      ]
     },
     "execution_count": 498,
     "metadata": {},
     "output_type": "execute_result"
    }
   ],
   "source": [
    "class_count = spacex_df.groupby(['Launch Site'])['class'].value_counts() \n",
    "class_count2 = list(class_count)\n",
    "class_name = class_count.index.tolist()\n",
    "print(class_count)\n",
    "print(class_name)\n",
    "print(class_count2)\n",
    "new_df = pd.DataFrame()\n",
    "new_df[\"name\"] = class_name\n",
    "new_df[\"val\"] = class_count2\n",
    "new_df.head()"
   ]
  },
  {
   "cell_type": "code",
   "execution_count": 500,
   "id": "4536d592",
   "metadata": {},
   "outputs": [
    {
     "name": "stderr",
     "output_type": "stream",
     "text": [
      "127.0.0.1 - - [01/Sep/2021 16:43:51] \"\u001b[37mGET /_shutdown_46174835-42e5-469c-af94-b5dd1b84215e HTTP/1.1\u001b[0m\" 200 -\n",
      " * Running on http://localhost:8060/ (Press CTRL+C to quit)\n",
      "127.0.0.1 - - [01/Sep/2021 16:43:51] \"\u001b[37mGET /_alive_46174835-42e5-469c-af94-b5dd1b84215e HTTP/1.1\u001b[0m\" 200 -\n"
     ]
    },
    {
     "data": {
      "text/html": [
       "\n",
       "        <iframe\n",
       "            width=\"100%\"\n",
       "            height=\"650\"\n",
       "            src=\"http://localhost:8060/\"\n",
       "            frameborder=\"0\"\n",
       "            allowfullscreen\n",
       "        ></iframe>\n",
       "        "
      ],
      "text/plain": [
       "<IPython.lib.display.IFrame at 0x7f26781f9d60>"
      ]
     },
     "metadata": {},
     "output_type": "display_data"
    },
    {
     "name": "stderr",
     "output_type": "stream",
     "text": [
      "127.0.0.1 - - [01/Sep/2021 16:43:51] \"\u001b[37mGET / HTTP/1.1\u001b[0m\" 200 -\n",
      "127.0.0.1 - - [01/Sep/2021 16:43:51] \"\u001b[37mGET /_dash-layout HTTP/1.1\u001b[0m\" 200 -\n",
      "127.0.0.1 - - [01/Sep/2021 16:43:51] \"\u001b[37mGET /_dash-dependencies HTTP/1.1\u001b[0m\" 200 -\n",
      "127.0.0.1 - - [01/Sep/2021 16:43:52] \"\u001b[37mGET /_dash-component-suites/dash_core_components/async-graph.js HTTP/1.1\u001b[0m\" 200 -\n",
      "127.0.0.1 - - [01/Sep/2021 16:43:52] \"\u001b[37mGET /_dash-component-suites/dash_core_components/async-dropdown.js HTTP/1.1\u001b[0m\" 200 -\n",
      "127.0.0.1 - - [01/Sep/2021 16:43:52] \"\u001b[37mGET /_dash-component-suites/dash_core_components/async-slider.js HTTP/1.1\u001b[0m\" 200 -\n",
      "127.0.0.1 - - [01/Sep/2021 16:43:52] \"\u001b[37mGET /_dash-component-suites/dash_core_components/async-plotlyjs.js HTTP/1.1\u001b[0m\" 200 -\n"
     ]
    }
   ],
   "source": [
    "# Create an app layout\n",
    "app.layout = html.Div(children=[html.H1('SpaceX Launch Records Dashboard',\n",
    "                                        style={'textAlign': 'center', 'color': '#503D36',\n",
    "                                               'font-size': 40}),\n",
    "                                # TASK 1: Add a dropdown list to enable Launch Site selection\n",
    "                                # The default select value is for ALL sites\n",
    "                                # dcc.Dropdown(id='site-dropdown',...)\n",
    "                                dcc.Dropdown(id='site-dropdown', \n",
    "                                            # Update dropdown values using list comphrehension\n",
    "                                            options=[{'label':i, 'value': i} for i in site_name],\n",
    "                                            placeholder = \"Select a Launch Site\",\n",
    "                                            style={'width':'80%', 'padding':'3px', 'font-size': '20px', 'text-align-last' : 'center'}),\n",
    "\n",
    "                          \n",
    "                                \n",
    "                                html.Br(),\n",
    "\n",
    "                                # TASK 2: Add a pie chart to show the total successful launches count for all sites\n",
    "                                # If a specific launch site was selected, show the Success vs. Failed counts for the site\n",
    "                                \n",
    "                                html.Div(dcc.Graph(id='success-pie-chart')), \n",
    "                                             \n",
    "                                html.Br(),\n",
    "\n",
    "                                html.P(\"Payload range (Kg):\"),\n",
    "                                # TASK 3: Add a slider to select payload range\n",
    "                                #dcc.RangeSlider(id='payload-slider',...)\n",
    "                                dcc.RangeSlider(id='payload-slider', min = 0, max = 1000, step = 100, value=[min_payload, max_payload] ),\n",
    "\n",
    "\n",
    "                                # TASK 4: Add a scatter chart to show the correlation between payload and launch success\n",
    "                                html.Div(dcc.Graph(id='success-payload-scatter-chart')),\n",
    "                                ])\n",
    "\n",
    "# TASK 2:\n",
    "# Add a callback function for `site-dropdown` as input, `success-pie-chart` as output\n",
    "@app.callback(\n",
    "    Output(component_id = 'success-pie-chart',component_property = 'figure'),\n",
    "    [Input(component_id = 'site-dropdown', component_property = 'value')], \n",
    "    prevent_initial_call = True\n",
    ")\n",
    "\n",
    "\n",
    "def generate_chart(name):\n",
    "    \n",
    "    if name == \"CCAFS LC-40\":\n",
    "        df = new_df.iloc[0:2]\n",
    "        fig = px.pie(df, values = 'val', names = 'name', title = \"Pie chart plot of Success vs failure\")\n",
    "        return fig\n",
    "    \n",
    "    elif name == \"KSC LC-39A\":\n",
    "        df = new_df.iloc[4:6]\n",
    "        fig = px.pie(df, values = 'val', names = 'name', title = \"Pie chart plot of Success vs failure\")\n",
    "        return fig\n",
    "    \n",
    "    elif name == \"VAFB SLC-4E\":\n",
    "        df = new_df.iloc[6:8]\n",
    "        fig = px.pie(df, values = 'val', names = 'name', title = \"Pie chart plot of Success vs failure\")\n",
    "        return fig\n",
    "    \n",
    "    else:\n",
    "        df = new_df.iloc[2:4]\n",
    "        fig = px.pie(df, values = 'val', names = 'name', title = \"Pie chart plot of Success vs failure\")\n",
    "        return fig\n",
    "      \n",
    "              \n",
    "# TASK 4:\n",
    "# Add a callback function for `site-dropdown` and `payload-slider` as inputs, `success-payload-scatter-chart` as output\n",
    "@app.callback(\n",
    "    Output(component_id = 'success-payload-scatter-chart',component_property = 'figure'),\n",
    "    [Input(component_id = 'site-dropdown', component_property = 'value'),\n",
    "     Input(component_id = 'payload-slider', component_property = 'value')], \n",
    "    prevent_initial_call = True\n",
    ")\n",
    "\n",
    "\n",
    "def get_graph(name, payload):\n",
    "    payload_df = spacex_df[ [ \"Launch Site\", \"class\", \"Payload Mass (kg)\" ] ].loc[ ( spacex_df [ \"Payload Mass (kg)\" ] >= float(payload[0]) ) & \n",
    "                  ( spacex_df [ \"Payload Mass (kg)\" ] < float(payload[1]) ) ]\n",
    "\n",
    "    newpdf = payload_df.loc[ payload_df[\"Launch Site\"] == name ]\n",
    "    figr = px.scatter(newpdf, x = \"Payload Mass (kg)\", y=\"class\", color = \"class\",\n",
    "                     title=\"Scatter plot for apyload  mass vs class\" )\n",
    "    figr.update_traces(marker_coloraxis=None)                         \n",
    "    return figr\n",
    "    \n",
    "    \n",
    "\n",
    "# Run the app\n",
    "if __name__ == '__main__':\n",
    "    app.run_server( mode=\"inline\", host=\"localhost\", port=8060, debug=False, dev_tools_ui=False, dev_tools_props_check=False)"
   ]
  },
  {
   "cell_type": "code",
   "execution_count": null,
   "id": "00408d81",
   "metadata": {},
   "outputs": [],
   "source": []
  }
 ],
 "metadata": {
  "kernelspec": {
   "display_name": "Python 3",
   "language": "python",
   "name": "python3"
  },
  "language_info": {
   "codemirror_mode": {
    "name": "ipython",
    "version": 3
   },
   "file_extension": ".py",
   "mimetype": "text/x-python",
   "name": "python",
   "nbconvert_exporter": "python",
   "pygments_lexer": "ipython3",
   "version": "3.8.10"
  }
 },
 "nbformat": 4,
 "nbformat_minor": 5
}
